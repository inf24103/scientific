{
 "cells": [
  {
   "cell_type": "code",
   "execution_count": 2,
   "id": "4ef90f9b",
   "metadata": {},
   "outputs": [
    {
     "name": "stdout",
     "output_type": "stream",
     "text": [
      "Hello World\n"
     ]
    }
   ],
   "source": [
    "print(\"Hello World\")"
   ]
  },
  {
   "cell_type": "markdown",
   "id": "0799a4c3",
   "metadata": {
    "vscode": {
     "languageId": "html"
    }
   },
   "source": [
    "%%html\n",
    "<!--Bitte diese Cell mit Run ausführen, damit die Styles geladen werden-->\n",
    "<!--Bei Änderungen des CSS muss das Notebook im Browser neu geladen werden-->\n",
    "<link rel=\"stylesheet\" href=\"./styles/sciprolab.css\">\n"
   ]
  },
  {
   "cell_type": "markdown",
   "id": "4e93313b",
   "metadata": {},
   "source": [
    "## Hello \n",
    "# Scientific Programming Lab\n",
    "\n",
    "- Mathmatische Inhalte\n",
    "  - Funktionen\n",
    "  - Ableitung und Ableitungsregeln\n",
    "      - Faktorregel\n",
    "      - Potenzregel\n",
    "      - Summenregel\n",
    "      - Produktregel\n",
    "      - Kettenregel\n",
    "- Informatische Inhalte\n",
    "  - Fortgeschrittene Konzepte der Vererbung und Objektorientierung\n",
    "      - Mehrfachvererbung und Mixins\n",
    "      - Interne Attribute\n",
    "      - Datenklassen und Deep Copy\n",
    "      - Typhinweise\n",
    "      - Statische Methoden\n",
    "      - Klassenmethoden\n",
    "      - Abstrakte Basisklassen\n",
    "      "
   ]
  },
  {
   "cell_type": "code",
   "execution_count": null,
   "id": "ef6da657",
   "metadata": {},
   "outputs": [],
   "source": []
  },
  {
   "cell_type": "code",
   "execution_count": null,
   "id": "b76129f3",
   "metadata": {},
   "outputs": [],
   "source": []
  }
 ],
 "metadata": {
  "kernelspec": {
   "display_name": "Python 3 (ipykernel)",
   "language": "python",
   "name": "python3"
  },
  "language_info": {
   "codemirror_mode": {
    "name": "ipython",
    "version": 3
   },
   "file_extension": ".py",
   "mimetype": "text/x-python",
   "name": "python",
   "nbconvert_exporter": "python",
   "pygments_lexer": "ipython3",
   "version": "3.13.5"
  }
 },
 "nbformat": 4,
 "nbformat_minor": 5
}
