{
 "cells": [
  {
   "cell_type": "code",
   "execution_count": 2,
   "id": "4ef90f9b",
   "metadata": {},
   "outputs": [],
   "source": [
    "import numpy as np\n",
    "import matplotlib.pyplot as plt\n",
    "from scipy.special import erf\n",
    "import math"
   ]
  },
  {
   "cell_type": "code",
   "execution_count": null,
   "id": "4c5f1e3a-9927-4869-b22a-17f953ab3013",
   "metadata": {},
   "outputs": [],
   "source": []
  },
  {
   "cell_type": "code",
   "execution_count": null,
   "id": "da700139-3d5b-47b9-9966-658d654bb8ee",
   "metadata": {},
   "outputs": [],
   "source": []
  },
  {
   "cell_type": "markdown",
   "id": "0799a4c3",
   "metadata": {
    "vscode": {
     "languageId": "html"
    }
   },
   "source": [
    "%%html\n",
    "<!--Bitte diese Cell mit Run ausführen, damit die Styles geladen werden-->\n",
    "<!--Bei Änderungen des CSS muss das Notebook im Browser neu geladen werden-->\n",
    "<link rel=\"stylesheet\" href=\"./styles/sciprolab.css\">\n"
   ]
  },
  {
   "cell_type": "markdown",
   "id": "4e93313b",
   "metadata": {},
   "source": [
    "## Hello \n",
    "# Scientific Programming Lab\n",
    "\n",
    "- Teil 1: Riemann Ingergrale mit Ober- und Untersummen, Trapezregel\n",
    "  - Methode der numerischen Intergration\n",
    "    - Obersumme, Untersumme, Trapezregel\n",
    "  - Bsp. an Notebook 7\n",
    "      - Achten auf Definitionslücken und Nulldurchgänge\n",
    "- Teil 2: Intergration mittels Monte-Carlo-Simulation\n",
    "  - Grundlagen der Intergration\n",
    "  - Manuelle Wahl des Sampling-Bereichs\n",
    "    - explorative Methode\n",
    "\n",
    "- Teil 3: Darstellung der Intergrationsmethode\n",
    "  - Ergebnisse visualisieren:\n",
    "    - Teil 1\n",
    "    - Teil 2\n",
    "  - Schnittstelle bzw. Integration\n",
    "\n",
    "- Teil 4: Test der numerischen Intergration\n",
    "  - Verschiedene Klassen von Funktionen\n",
    "    - $\\sin(x)$ mit Intervall $[-3, 3]$  \n",
    "    - $e^x$ mit Intervall $[0, 10]$\n",
    "  - Annäherung eines tatsächlichen Wertes\n",
    "  - Stammfunktion bilden\n",
    "\n",
    "- Teil 5: Grenzen numerischer Intergration\n",
    "  - Funktion $\\sin\\left(\\left(x + \\frac{1}{32}\\right) \\cdot 16\\pi \\right)$\n",
    "  - Aufteilung auf 2, 4, 8 und 16 gleichgroße Intervalle\n",
    "  - Optional:\n",
    "    - Gaußsche Fehlerfunktion\n",
    "      - Klassisch nicht intergrierbar\n",
    "      - Numerisch intergrierbar\n",
    "\n",
    "\n",
    "      "
   ]
  },
  {
   "cell_type": "markdown",
   "id": "ef6da657",
   "metadata": {},
   "source": [
    "$$\n",
    "\\displaystyle\n",
    "\\left( \\sum_{k=1}^n a_k b_k \\right)^2\n",
    "\\leq\n",
    "\\left( \\sum_{k=1}^n a_k^2 \\right)\n",
    "\\left( \\sum_{k=1}^n b_k^2 \\right)\n",
    "$$"
   ]
  },
  {
   "cell_type": "markdown",
   "id": "18519efb",
   "metadata": {},
   "source": [
    "# Teil 1: Riemann Intergrale, Python-Code kleines Beispiel"
   ]
  },
  {
   "cell_type": "code",
   "execution_count": 2,
   "id": "05345012",
   "metadata": {},
   "outputs": [
    {
     "name": "stdout",
     "output_type": "stream",
     "text": [
      "Untersumme: 0.375\n",
      "Obersumme: 0.625\n",
      "Trapezregel: 0.5\n"
     ]
    }
   ],
   "source": [
    "def f(x):\n",
    "    return x  # einfache Funktion: f(x) = x\n",
    "\n",
    "a, b = 0, 1\n",
    "n = 4\n",
    "x = np.linspace(a, b, n+1)\n",
    "dx = (b - a) / n\n",
    "\n",
    "# Untersumme\n",
    "lower_sum = sum(min(f(x[i]), f(x[i+1])) for i in range(n)) * dx\n",
    "# Obersumme\n",
    "upper_sum = sum(max(f(x[i]), f(x[i+1])) for i in range(n)) * dx\n",
    "# Trapezregel\n",
    "y = f(x)\n",
    "trapezoid = dx * (np.sum(y) - 0.5 * (y[0] + y[-1]))\n",
    "\n",
    "print(\"Untersumme:\", lower_sum)\n",
    "print(\"Obersumme:\", upper_sum)\n",
    "print(\"Trapezregel:\", trapezoid)\n"
   ]
  },
  {
   "cell_type": "markdown",
   "id": "a237b91b",
   "metadata": {},
   "source": [
    "# Teil 2: Intergration Monte-Carlo, Python-Code kleines Beispiel"
   ]
  },
  {
   "cell_type": "code",
   "execution_count": 3,
   "id": "0f95f73a",
   "metadata": {},
   "outputs": [
    {
     "name": "stdout",
     "output_type": "stream",
     "text": [
      "Monte-Carlo-Approximation: 0.5036366907824442\n"
     ]
    }
   ],
   "source": [
    "def f(x):\n",
    "    return x  # einfache Funktion f(x) = x\n",
    "\n",
    "a, b = 0, 1\n",
    "N = 1000\n",
    "samples = np.random.uniform(a, b, N)\n",
    "mc_result = (b - a) * np.mean(f(samples))\n",
    "\n",
    "print(\"Monte-Carlo-Approximation:\", mc_result)\n"
   ]
  },
  {
   "cell_type": "markdown",
   "id": "883d8ae1",
   "metadata": {},
   "source": [
    "# Teil 3: Visualisierung, Python-Code kleines Beispiel"
   ]
  },
  {
   "cell_type": "code",
   "execution_count": 4,
   "id": "9c23116e",
   "metadata": {},
   "outputs": [
    {
     "data": {
      "image/png": "[encoded data removed]",
      "text/plain": [
       "<Figure size 640x480 with 1 Axes>"
      ]
     },
     "metadata": {},
     "output_type": "display_data"
    }
   ],
   "source": [
    "def f(x):\n",
    "    return x\n",
    "\n",
    "x = np.linspace(0, 1, 100)\n",
    "y = f(x)\n",
    "\n",
    "plt.plot(x, y, label='f(x) = x')\n",
    "plt.fill_between(x, y, alpha=0.3)\n",
    "plt.title(\"Graph von f(x) = x\")\n",
    "plt.xlabel(\"x\")\n",
    "plt.ylabel(\"f(x)\")\n",
    "plt.legend()\n",
    "plt.grid(True)\n",
    "plt.show()\n"
   ]
  },
  {
   "cell_type": "markdown",
   "id": "5112c3b6",
   "metadata": {},
   "source": [
    "# Teil 4: Test der numerischen Intergrale, Python-Code kleines Beispiel"
   ]
  },
  {
   "cell_type": "code",
   "execution_count": 5,
   "id": "a0a73275",
   "metadata": {},
   "outputs": [
    {
     "name": "stdout",
     "output_type": "stream",
     "text": [
      "Exakter Wert: 0.3333333333333333\n",
      "Numerische Näherung: 0.3350000000000001\n"
     ]
    }
   ],
   "source": [
    "# f(x) = x^2, Stammfunktion: F(x) = x^3 / 3\n",
    "def f(x):\n",
    "    return x**2\n",
    "def F(x):\n",
    "    return x**3 / 3\n",
    "\n",
    "a, b = 0, 1\n",
    "true_value = F(b) - F(a)\n",
    "\n",
    "# Trapezregel mit n = 10\n",
    "n = 10\n",
    "x = np.linspace(a, b, n+1)\n",
    "dx = (b - a) / n\n",
    "y = f(x)\n",
    "approx = dx * (np.sum(y) - 0.5 * (y[0] + y[-1]))\n",
    "\n",
    "print(\"Exakter Wert:\", true_value)\n",
    "print(\"Numerische Näherung:\", approx)\n"
   ]
  },
  {
   "cell_type": "markdown",
   "id": "ddd14714",
   "metadata": {},
   "source": [
    "# Teil 5: Grenzen numerischer Intergrale, Python-Code kleines Beispiel"
   ]
  },
  {
   "cell_type": "code",
   "execution_count": 6,
   "id": "4c155eab",
   "metadata": {},
   "outputs": [
    {
     "name": "stdout",
     "output_type": "stream",
     "text": [
      "n =  2 → Trapezregel: 1.000000\n",
      "n =  4 → Trapezregel: 1.000000\n",
      "n =  8 → Trapezregel: 1.000000\n",
      "n = 16 → Trapezregel: 0.000000\n"
     ]
    }
   ],
   "source": [
    "def f(x):\n",
    "    return np.sin((x + 1/32) * 16 * np.pi)\n",
    "\n",
    "a, b = 0, 1\n",
    "\n",
    "for n in [2, 4, 8, 16]:\n",
    "    x = np.linspace(a, b, n+1)\n",
    "    dx = (b - a) / n\n",
    "    y = f(x)\n",
    "    trapez = dx * (np.sum(y) - 0.5 * (y[0] + y[-1]))\n",
    "    print(f\"n = {n:2d} → Trapezregel: {trapez:.6f}\")\n"
   ]
  },
  {
   "cell_type": "markdown",
   "id": "b76129f3",
   "metadata": {},
   "source": [
    "<div>\n",
    "  <p>Matrixelement:</p>\n",
    "</div>\n",
    "\n",
    "• Matrix-Eintrag: $\\mathbf{A_{14}}$\n"
   ]
  },
  {
   "cell_type": "code",
   "execution_count": 8,
   "id": "d5ed932a",
   "metadata": {},
   "outputs": [
    {
     "name": "stdout",
     "output_type": "stream",
     "text": [
      "Untersumme: 0.375\n",
      "Obersumme: 0.625\n",
      "Trapezregel: 0.5\n",
      "Monte-Carlo-Approximation: 0.4934764251346966\n"
     ]
    },
    {
     "data": {
      "image/png": "[encoded data removed]",
      "text/plain": [
       "<Figure size 640x480 with 1 Axes>"
      ]
     },
     "metadata": {},
     "output_type": "display_data"
    },
    {
     "name": "stdout",
     "output_type": "stream",
     "text": [
      "Exakter Wert: 0.3333333333333333\n",
      "Numerische Näherung: 0.3350000000000001\n",
      "n =  2 → Trapezregel: 1.000000\n",
      "n =  4 → Trapezregel: 1.000000\n",
      "n =  8 → Trapezregel: 1.000000\n",
      "n = 16 → Trapezregel: 0.000000\n"
     ]
    }
   ],
   "source": [
    "\n",
    "\n",
    "\n",
    "\n",
    "def f(x):\n",
    "    return x  # einfache Funktion: f(x) = x\n",
    "\n",
    "a, b = 0, 1\n",
    "n = 4\n",
    "x = np.linspace(a, b, n+1)\n",
    "dx = (b - a) / n\n",
    "\n",
    "# Untersumme\n",
    "lower_sum = sum(min(f(x[i]), f(x[i+1])) for i in range(n)) * dx\n",
    "# Obersumme \n",
    "upper_sum = sum(max(f(x[i]), f(x[i+1])) for i in range(n)) * dx\n",
    "# Trapezregel\n",
    "y = f(x)\n",
    "trapezoid = dx * (np.sum(y) - 0.5 * (y[0] + y[-1]))\n",
    "\n",
    "print(\"Untersumme:\", lower_sum)\n",
    "print(\"Obersumme:\", upper_sum)\n",
    "print(\"Trapezregel:\", trapezoid)\n",
    "\n",
    "def f(x):\n",
    "    return x  # einfache Funktion f(x) = x\n",
    "\n",
    "a, b = 0, 1\n",
    "N = 1000\n",
    "samples = np.random.uniform(a, b, N)\n",
    "mc_result = (b - a) * np.mean(f(samples))\n",
    "\n",
    "print(\"Monte-Carlo-Approximation:\", mc_result)\n",
    "\n",
    "def f(x):\n",
    "    return x\n",
    "\n",
    "x = np.linspace(0, 1, 100)\n",
    "y = f(x)\n",
    "\n",
    "plt.plot(x, y, label='f(x) = x')\n",
    "plt.fill_between(x, y, alpha=0.3)\n",
    "plt.title(\"Graph von f(x) = x\")\n",
    "plt.xlabel(\"x\")\n",
    "plt.ylabel(\"f(x)\")\n",
    "plt.legend()\n",
    "plt.grid(True)\n",
    "plt.show()\n",
    "\n",
    "# f(x) = x^2, Stammfunktion: F(x) = x^3 / 3\n",
    "def f(x):\n",
    "    return x**2\n",
    "def F(x):\n",
    "    return x**3 / 3\n",
    "\n",
    "a, b = 0, 1\n",
    "true_value = F(b) - F(a)\n",
    "\n",
    "# Trapezregel mit n = 10\n",
    "n = 10\n",
    "x = np.linspace(a, b, n+1)\n",
    "dx = (b - a) / n\n",
    "y = f(x)\n",
    "approx = dx * (np.sum(y) - 0.5 * (y[0] + y[-1]))\n",
    "\n",
    "print(\"Exakter Wert:\", true_value)\n",
    "print(\"Numerische Näherung:\", approx)\n",
    "def f(x):\n",
    "    return np.sin((x + 1/32) * 16 * np.pi)\n",
    "\n",
    "a, b = 0, 1\n",
    "\n",
    "for n in [2, 4, 8, 16]:\n",
    "    x = np.linspace(a, b, n+1)\n",
    "    dx = (b - a) / n\n",
    "    y = f(x)\n",
    "    trapez = dx * (np.sum(y) - 0.5 * (y[0] + y[-1]))\n",
    "    print(f\"n = {n:2d} → Trapezregel: {trapez:.6f}\")\n",
    "\n"
   ]
  },
  {
   "cell_type": "code",
   "execution_count": 11,
   "id": "87ac4986",
   "metadata": {},
   "outputs": [
    {
     "name": "stdout",
     "output_type": "stream",
     "text": [
      "\n",
      "--- Teil 1: Untersumme & Obersumme ---\n",
      "Untersumme: 2.280000\n",
      "Obersumme:  3.080000\n",
      "\n",
      "--- Teil 2: Trapezregel ---\n",
      "Trapezregel: 2.680000\n",
      "\n",
      "--- Teil 3: Monte-Carlo-Integration ---\n",
      "Monte-Carlo (N=1000): 2.498830\n",
      "\n",
      "--- Teil 4: Plot der Funktion f(x) ---\n"
     ]
    },
    {
     "data": {
      "image/png": "[encoded data removed]",
      "text/plain": [
       "<Figure size 640x480 with 1 Axes>"
      ]
     },
     "metadata": {},
     "output_type": "display_data"
    },
    {
     "name": "stdout",
     "output_type": "stream",
     "text": [
      "\n",
      "--- Teil 5: Exakter Wert (falls bekannt) ---\n",
      "Exakter Wert: 2.000000\n"
     ]
    }
   ],
   "source": [
    "# === Eingaben ===\n",
    "f_string = input(\"Gib die Funktion f(x) ein (z. B. 'x', 'x**2', 'np.sin(x)', 'np.exp(-x**2)'): \")\n",
    "a = float(input(\"Untere Grenze a: \"))\n",
    "b = float(input(\"Obere Grenze b: \"))\n",
    "n = int(input(\"Anzahl der Intervalle n (z. B. 10): \"))\n",
    "N_mc = int(input(\"Monte-Carlo-Stichproben N (z. B. 1000): \"))\n",
    "F_string = input(\"Stammfunktion F(x) (für exakten Wert, leer lassen wenn unbekannt): \")\n",
    "\n",
    "# Funktionen definieren\n",
    "def f(x):\n",
    "    return eval(f_string)\n",
    "\n",
    "def F(x):\n",
    "    return eval(F_string) if F_string else None\n",
    "\n",
    "# Hilfsgrößen\n",
    "dx = (b - a) / n\n",
    "x = np.linspace(a, b, n + 1)\n",
    "y = f(x)\n",
    "\n",
    "# ================================\n",
    "# === Teil 1: Untersumme & Obersumme ===\n",
    "# ================================\n",
    "print(\"\\n--- Teil 1: Untersumme & Obersumme ---\")\n",
    "lower_sum = sum(min(f(x[i]), f(x[i+1])) for i in range(n)) * dx\n",
    "upper_sum = sum(max(f(x[i]), f(x[i+1])) for i in range(n)) * dx\n",
    "\n",
    "print(f\"Untersumme: {lower_sum:.6f}\")\n",
    "print(f\"Obersumme:  {upper_sum:.6f}\")\n",
    "\n",
    "# ================================\n",
    "# === Teil 2: Trapezregel ===\n",
    "# ================================\n",
    "print(\"\\n--- Teil 2: Trapezregel ---\")\n",
    "trapezoid = dx * (np.sum(y) - 0.5 * (y[0] + y[-1]))\n",
    "print(f\"Trapezregel: {trapezoid:.6f}\")\n",
    "\n",
    "# ================================\n",
    "# === Teil 3: Monte-Carlo-Integration ===\n",
    "# ================================\n",
    "print(\"\\n--- Teil 3: Monte-Carlo-Integration ---\")\n",
    "samples = np.random.uniform(a, b, N_mc)\n",
    "mc_result = (b - a) * np.mean(f(samples))\n",
    "print(f\"Monte-Carlo (N={N_mc}): {mc_result:.6f}\")\n",
    "\n",
    "# ================================\n",
    "# === Teil 4: Plot der Funktion ===\n",
    "# ================================\n",
    "print(\"\\n--- Teil 4: Plot der Funktion f(x) ---\")\n",
    "x_plot = np.linspace(a, b, 1000)\n",
    "y_plot = f(x_plot)\n",
    "\n",
    "plt.plot(x_plot, y_plot, label='f(x)', color='blue')\n",
    "plt.fill_between(x_plot, y_plot, alpha=0.2, label='Fläche unter f(x)')\n",
    "plt.title(\"Visualisierung der Funktion f(x)\")\n",
    "plt.xlabel(\"x\")\n",
    "plt.ylabel(\"f(x)\")\n",
    "plt.grid(True)\n",
    "plt.legend()\n",
    "plt.show()\n",
    "\n",
    "# ================================\n",
    "# === Teil 5: Exakter Wert (optional) ===\n",
    "# ================================\n",
    "print(\"\\n--- Teil 5: Exakter Wert (falls bekannt) ---\")\n",
    "if F_string:\n",
    "    true_value = F(b) - F(a)\n",
    "    print(f\"Exakter Wert: {true_value:.6f}\")\n",
    "else:\n",
    "    print(\"Kein exakter Wert angegeben.\")\n"
   ]
  },
  {
   "cell_type": "code",
   "execution_count": 6,
   "id": "416476ab",
   "metadata": {},
   "outputs": [
    {
     "name": "stdout",
     "output_type": "stream",
     "text": [
      "\n",
      "--- Teil 1: Untersumme & Obersumme ---\n",
      "Untersumme: 2.280000\n",
      "Obersumme:  3.080000\n",
      "\n",
      "--- Teil 2: Trapezregel ---\n",
      "Trapezregel: 2.680000\n",
      "\n",
      "--- Teil 3: Monte-Carlo-Integration ---\n",
      "Monte-Carlo (N=1000): 2.845480\n",
      "\n",
      "--- Teil 4: Plot der Funktion f(x) ---\n"
     ]
    },
    {
     "data": {
      "image/png": "[encoded data removed]",
      "text/plain": [
       "<Figure size 640x480 with 1 Axes>"
      ]
     },
     "metadata": {},
     "output_type": "display_data"
    },
    {
     "name": "stdout",
     "output_type": "stream",
     "text": [
      "\n",
      "--- Teil 5: Exakter Wert (falls bekannt) ---\n",
      "Exakter Wert: 3.000000\n",
      "Programm beendet.\n",
      "\n",
      "=== Übersicht aller Durchläufe ===\n",
      "\n",
      "Durchlauf 1: Status: vollständig\n",
      "Eingaben:\n",
      "  f_string: x**2\n",
      "  a: 0\n",
      "  b: 2\n",
      "  n: 10\n",
      "  N_mc: 1000\n",
      "  F_string: 2**x\n",
      "Ausgaben:\n",
      "  Teil 1:\n",
      "    Untersumme: 2.2800000000000007\n",
      "    Obersumme: 3.0800000000000005\n",
      "  Teil 2:\n",
      "    Trapezregel: 2.6800000000000006\n",
      "  Teil 3:\n",
      "    Monte-Carlo: 2.8454802549870912\n",
      "  Teil 4:\n",
      "    Plot: erstellt\n",
      "  Teil 5:\n",
      "    Exakter Wert: 3\n"
     ]
    }
   ],
   "source": [
    "def main():\n",
    "    durchlaeufe = []  # Liste aller Durchläufe (je dict mit inputs+outputs+status)\n",
    "\n",
    "    while True:\n",
    "        # Speichere alle Eingaben\n",
    "        inputs = {}\n",
    "\n",
    "        inputs['f_string'] = input(\"Gib die Funktion f(x) ein (z. B. 'x**2', 'np.sin(x)'): \")\n",
    "        a_str = input(\"Untere Grenze a (z.B. '0', 'pi/2', '2*pi'): \")\n",
    "        b_str = input(\"Obere Grenze b (z.B. 'pi', '3*pi/2'): \")\n",
    "        inputs['a'] = eval(a_str, {\"pi\": math.pi, \"np\": np, \"math\": math})\n",
    "        inputs['b'] = eval(b_str, {\"pi\": math.pi, \"np\": np, \"math\": math})\n",
    "        inputs['n'] = int(input(\"Anzahl der Intervalle n: \"))\n",
    "        inputs['N_mc'] = int(input(\"Monte-Carlo-Stichproben N: \"))\n",
    "        inputs['F_string'] = input(\"Stammfunktion F(x) (für exakten Wert, leer lassen wenn unbekannt): \").strip()\n",
    "\n",
    "        def f(x):\n",
    "            return eval(inputs['f_string'], {\"np\": np, \"math\": math, \"x\": x})\n",
    "\n",
    "        def F(x):\n",
    "            if not inputs['F_string']:\n",
    "                return None\n",
    "            return eval(inputs['F_string'], {\"np\": np, \"math\": math, \"x\": x})\n",
    "\n",
    "        dx = (inputs['b'] - inputs['a']) / inputs['n']\n",
    "        x = np.linspace(inputs['a'], inputs['b'], inputs['n'] + 1)\n",
    "        y = f(x)\n",
    "\n",
    "        def weiter_machen(teil):\n",
    "            antwort = input(f\"Möchtest du mit Teil {teil} weitermachen? (j/n): \").lower()\n",
    "            return antwort == 'j'\n",
    "\n",
    "        outputs = {}  # Speichere alle Outputs des aktuellen Durchlaufs\n",
    "\n",
    "        # Teil 1\n",
    "        print(\"\\n--- Teil 1: Untersumme & Obersumme ---\")\n",
    "        lower_sum = sum(min(f(x[i]), f(x[i + 1])) for i in range(inputs['n'])) * dx\n",
    "        upper_sum = sum(max(f(x[i]), f(x[i + 1])) for i in range(inputs['n'])) * dx\n",
    "        print(f\"Untersumme: {lower_sum:.6f}\")\n",
    "        print(f\"Obersumme:  {upper_sum:.6f}\")\n",
    "        outputs['Teil 1'] = {'Untersumme': lower_sum, 'Obersumme': upper_sum}\n",
    "\n",
    "        if not weiter_machen(2):\n",
    "            print(\"Starte neu mit Eingaben.\")\n",
    "            durchlaeufe.append({\n",
    "                'inputs': inputs,\n",
    "                'outputs': outputs,\n",
    "                'status': 'abgebrochen nach Teil 1'\n",
    "            })\n",
    "            continue\n",
    "\n",
    "        # Teil 2\n",
    "        print(\"\\n--- Teil 2: Trapezregel ---\")\n",
    "        trapezoid = dx * (np.sum(y) - 0.5 * (y[0] + y[-1]))\n",
    "        print(f\"Trapezregel: {trapezoid:.6f}\")\n",
    "        outputs['Teil 2'] = {'Trapezregel': trapezoid}\n",
    "\n",
    "        if not weiter_machen(3):\n",
    "            print(\"Starte neu mit Eingaben.\")\n",
    "            durchlaeufe.append({\n",
    "                'inputs': inputs,\n",
    "                'outputs': outputs,\n",
    "                'status': 'abgebrochen nach Teil 2'\n",
    "            })\n",
    "            continue\n",
    "\n",
    "        # Teil 3\n",
    "        print(\"\\n--- Teil 3: Monte-Carlo-Integration ---\")\n",
    "        samples = np.random.uniform(inputs['a'], inputs['b'], inputs['N_mc'])\n",
    "        mc_result = (inputs['b'] - inputs['a']) * np.mean(f(samples))\n",
    "        print(f\"Monte-Carlo (N={inputs['N_mc']}): {mc_result:.6f}\")\n",
    "        outputs['Teil 3'] = {'Monte-Carlo': mc_result}\n",
    "\n",
    "        if not weiter_machen(4):\n",
    "            print(\"Starte neu mit Eingaben.\")\n",
    "            durchlaeufe.append({\n",
    "                'inputs': inputs,\n",
    "                'outputs': outputs,\n",
    "                'status': 'abgebrochen nach Teil 3'\n",
    "            })\n",
    "            continue\n",
    "\n",
    "        # Teil 4\n",
    "        print(\"\\n--- Teil 4: Plot der Funktion f(x) ---\")\n",
    "        x_plot = np.linspace(inputs['a'], inputs['b'], 1000)\n",
    "        y_plot = f(x_plot)\n",
    "        plt.plot(x_plot, y_plot, label='f(x)', color='blue')\n",
    "        plt.fill_between(x_plot, y_plot, alpha=0.2, label='Fläche unter f(x)')\n",
    "        plt.title(\"Visualisierung der Funktion f(x)\")\n",
    "        plt.xlabel(\"x\")\n",
    "        plt.ylabel(\"f(x)\")\n",
    "        plt.grid(True)\n",
    "        plt.legend()\n",
    "        plt.show()\n",
    "        outputs['Teil 4'] = {'Plot': 'erstellt'}\n",
    "\n",
    "        if not weiter_machen(5):\n",
    "            print(\"Starte neu mit Eingaben.\")\n",
    "            durchlaeufe.append({\n",
    "                'inputs': inputs,\n",
    "                'outputs': outputs,\n",
    "                'status': 'abgebrochen nach Teil 4'\n",
    "            })\n",
    "            continue\n",
    "\n",
    "        # Teil 5\n",
    "        print(\"\\n--- Teil 5: Exakter Wert (falls bekannt) ---\")\n",
    "        if inputs['F_string']:\n",
    "            true_value = F(inputs['b']) - F(inputs['a'])\n",
    "            print(f\"Exakter Wert: {true_value:.6f}\")\n",
    "            outputs['Teil 5'] = {'Exakter Wert': true_value}\n",
    "        else:\n",
    "            print(\"Kein exakter Wert angegeben.\")\n",
    "            outputs['Teil 5'] = {'Exakter Wert': None}\n",
    "\n",
    "        durchlaeufe.append({\n",
    "            'inputs': inputs,\n",
    "            'outputs': outputs,\n",
    "            'status': 'vollständig'\n",
    "        })\n",
    "\n",
    "        print(\"Programm beendet.\")\n",
    "        break\n",
    "\n",
    "    # Am Ende alle Durchläufe ausgeben:\n",
    "    print(\"\\n=== Übersicht aller Durchläufe ===\")\n",
    "    for i, d in enumerate(durchlaeufe, 1):\n",
    "        print(f\"\\nDurchlauf {i}: Status: {d['status']}\")\n",
    "        print(\"Eingaben:\")\n",
    "        for k,v in d['inputs'].items():\n",
    "            print(f\"  {k}: {v}\")\n",
    "        print(\"Ausgaben:\")\n",
    "        for teil, res in d['outputs'].items():\n",
    "            print(f\"  {teil}:\")\n",
    "            for k2,v2 in res.items():\n",
    "                print(f\"    {k2}: {v2}\")\n",
    "\n",
    "main()\n"
   ]
  },
  {
   "cell_type": "code",
   "execution_count": 4,
   "id": "72b15cb7",
   "metadata": {},
   "outputs": [],
   "source": [
    "from reportlab.pdfgen import canvas\n",
    "\n",
    "c = canvas.Canvas(\"example.pdf\")\n",
    "c.drawString(100, 750, \"Hallo Welt, PDF ohne wkhtmltopdf!\")\n",
    "c.save()"
   ]
  }
 ],
 "metadata": {
  "kernelspec": {
   "display_name": "Python 3 (ipykernel)",
   "language": "python",
   "name": "python3"
  },
  "language_info": {
   "codemirror_mode": {
    "name": "ipython",
    "version": 3
   },
   "file_extension": ".py",
   "mimetype": "text/x-python",
   "name": "python",
   "nbconvert_exporter": "python",
   "pygments_lexer": "ipython3",
   "version": "3.13.5"
  }
 },
 "nbformat": 4,
 "nbformat_minor": 5
}
