{
 "cells": [
  {
   "cell_type": "code",
   "execution_count": 1,
   "id": "4ef90f9b",
   "metadata": {},
   "outputs": [],
   "source": [
    "import numpy as np\n",
    "import matplotlib.pyplot as plt\n",
    "from scipy.special import erf\n",
    "import math"
   ]
  },
  {
   "cell_type": "markdown",
   "id": "0799a4c3",
   "metadata": {
    "vscode": {
     "languageId": "html"
    }
   },
   "source": [
    "%%html\n",
    "<!--Bitte diese Cell mit Run ausführen, damit die Styles geladen werden-->\n",
    "<!--Bei Änderungen des CSS muss das Notebook im Browser neu geladen werden-->\n",
    "<link rel=\"stylesheet\" href=\"./styles/sciprolab.css\">\n"
   ]
  },
  {
   "cell_type": "markdown",
   "id": "4e93313b",
   "metadata": {},
   "source": [
    "## Hello \n",
    "# Scientific Programming Lab\n",
    "\n",
    "- Teil 1: Riemann Ingergrale mit Ober- und Untersummen, Trapezregel\n",
    "  - Methode der numerischen Intergration\n",
    "    - Obersumme, Untersumme, Trapezregel\n",
    "  - Bsp. an Notebook 7\n",
    "      - Achten auf Definitionslücken und Nulldurchgänge\n",
    "- Teil 2: Intergration mittels Monte-Carlo-Simulation\n",
    "  - Grundlagen der Intergration\n",
    "  - Manuelle Wahl des Sampling-Bereichs\n",
    "    - explorative Methode\n",
    "\n",
    "- Teil 3: Darstellung der Intergrationsmethode\n",
    "  - Ergebnisse visualisieren:\n",
    "    - Teil 1\n",
    "    - Teil 2\n",
    "  - Schnittstelle bzw. Integration\n",
    "\n",
    "- Teil 4: Test der numerischen Intergration\n",
    "  - Verschiedene Klassen von Funktionen\n",
    "    - $\\sin(x)$ mit Intervall $[-3, 3]$  \n",
    "    - $e^x$ mit Intervall $[0, 10]$\n",
    "  - Annäherung eines tatsächlichen Wertes\n",
    "  - Stammfunktion bilden\n",
    "\n",
    "- Teil 5: Grenzen numerischer Intergration\n",
    "  - Funktion $\\sin\\left(\\left(x + \\frac{1}{32}\\right) \\cdot 16\\pi \\right)$\n",
    "  - Aufteilung auf 2, 4, 8 und 16 gleichgroße Intervalle\n",
    "  - Optional:\n",
    "    - Gaußsche Fehlerfunktion\n",
    "      - Klassisch nicht intergrierbar\n",
    "      - Numerisch intergrierbar\n",
    "\n",
    "\n",
    "      "
   ]
  },
  {
   "cell_type": "markdown",
   "id": "ef6da657",
   "metadata": {},
   "source": [
    "$$\n",
    "\\displaystyle\n",
    "\\left( \\sum_{k=1}^n a_k b_k \\right)^2\n",
    "\\leq\n",
    "\\left( \\sum_{k=1}^n a_k^2 \\right)\n",
    "\\left( \\sum_{k=1}^n b_k^2 \\right)\n",
    "$$"
   ]
  },
  {
   "cell_type": "markdown",
   "id": "18519efb",
   "metadata": {},
   "source": [
    "# Teil 1: Riemann Intergrale, Python-Code kleines Beispiel"
   ]
  },
  {
   "cell_type": "code",
   "execution_count": null,
   "id": "05345012",
   "metadata": {},
   "outputs": [],
   "source": [
    "def f(x):\n",
    "    return x  # einfache Funktion: f(x) = x\n",
    "\n",
    "a, b = 0, 1\n",
    "n = 4\n",
    "x = np.linspace(a, b, n+1)\n",
    "dx = (b - a) / n\n",
    "\n",
    "# Untersumme\n",
    "lower_sum = sum(min(f(x[i]), f(x[i+1])) for i in range(n)) * dx\n",
    "# Obersumme\n",
    "upper_sum = sum(max(f(x[i]), f(x[i+1])) for i in range(n)) * dx\n",
    "# Trapezregel\n",
    "y = f(x)\n",
    "trapezoid = dx * (np.sum(y) - 0.5 * (y[0] + y[-1]))\n",
    "\n",
    "print(\"Untersumme:\", lower_sum)\n",
    "print(\"Obersumme:\", upper_sum)\n",
    "print(\"Trapezregel:\", trapezoid)\n"
   ]
  },
  {
   "cell_type": "markdown",
   "id": "a237b91b",
   "metadata": {},
   "source": [
    "# Teil 2: Intergration Monte-Carlo, Python-Code kleines Beispiel"
   ]
  },
  {
   "cell_type": "code",
   "execution_count": null,
   "id": "0f95f73a",
   "metadata": {},
   "outputs": [],
   "source": [
    "def f(x):\n",
    "    return x  # einfache Funktion f(x) = x\n",
    "\n",
    "a, b = 0, 1\n",
    "N = 1000\n",
    "samples = np.random.uniform(a, b, N)\n",
    "mc_result = (b - a) * np.mean(f(samples))\n",
    "\n",
    "print(\"Monte-Carlo-Approximation:\", mc_result)\n"
   ]
  },
  {
   "cell_type": "markdown",
   "id": "883d8ae1",
   "metadata": {},
   "source": [
    "# Teil 3: Visualisierung, Python-Code kleines Beispiel"
   ]
  },
  {
   "cell_type": "code",
   "execution_count": null,
   "id": "9c23116e",
   "metadata": {},
   "outputs": [],
   "source": [
    "def f(x):\n",
    "    return x\n",
    "\n",
    "x = np.linspace(0, 1, 100)\n",
    "y = f(x)\n",
    "\n",
    "plt.plot(x, y, label='f(x) = x')\n",
    "plt.fill_between(x, y, alpha=0.3)\n",
    "plt.title(\"Graph von f(x) = x\")\n",
    "plt.xlabel(\"x\")\n",
    "plt.ylabel(\"f(x)\")\n",
    "plt.legend()\n",
    "plt.grid(True)\n",
    "plt.show()\n"
   ]
  },
  {
   "cell_type": "markdown",
   "id": "5112c3b6",
   "metadata": {},
   "source": [
    "# Teil 4: Test der numerischen Intergrale, Python-Code kleines Beispiel"
   ]
  },
  {
   "cell_type": "code",
   "execution_count": null,
   "id": "a0a73275",
   "metadata": {},
   "outputs": [],
   "source": [
    "# f(x) = x^2, Stammfunktion: F(x) = x^3 / 3\n",
    "def f(x):\n",
    "    return x**2\n",
    "def F(x):\n",
    "    return x**3 / 3\n",
    "\n",
    "a, b = 0, 1\n",
    "true_value = F(b) - F(a)\n",
    "\n",
    "# Trapezregel mit n = 10\n",
    "n = 10\n",
    "x = np.linspace(a, b, n+1)\n",
    "dx = (b - a) / n\n",
    "y = f(x)\n",
    "approx = dx * (np.sum(y) - 0.5 * (y[0] + y[-1]))\n",
    "\n",
    "print(\"Exakter Wert:\", true_value)\n",
    "print(\"Numerische Näherung:\", approx)\n"
   ]
  },
  {
   "cell_type": "markdown",
   "id": "ddd14714",
   "metadata": {},
   "source": [
    "# Teil 5: Grenzen numerischer Intergrale, Python-Code kleines Beispiel"
   ]
  },
  {
   "cell_type": "code",
   "execution_count": null,
   "id": "4c155eab",
   "metadata": {},
   "outputs": [],
   "source": [
    "def f(x):\n",
    "    return np.sin((x + 1/32) * 16 * np.pi)\n",
    "\n",
    "a, b = 0, 1\n",
    "\n",
    "for n in [2, 4, 8, 16]:\n",
    "    x = np.linspace(a, b, n+1)\n",
    "    dx = (b - a) / n\n",
    "    y = f(x)\n",
    "    trapez = dx * (np.sum(y) - 0.5 * (y[0] + y[-1]))\n",
    "    print(f\"n = {n:2d} → Trapezregel: {trapez:.6f}\")\n"
   ]
  },
  {
   "cell_type": "markdown",
   "id": "b76129f3",
   "metadata": {},
   "source": [
    "<div>\n",
    "  <p>Matrixelement:</p>\n",
    "</div>\n",
    "\n",
    "• Matrix-Eintrag: $\\mathbf{A_{14}}$\n"
   ]
  }
 ],
 "metadata": {
  "kernelspec": {
   "display_name": ".venv",
   "language": "python",
   "name": "python3"
  },
  "language_info": {
   "codemirror_mode": {
    "name": "ipython",
    "version": 3
   },
   "file_extension": ".py",
   "mimetype": "text/x-python",
   "name": "python",
   "nbconvert_exporter": "python",
   "pygments_lexer": "ipython3",
   "version": "3.13.5"
  }
 },
 "nbformat": 4,
 "nbformat_minor": 5
}
