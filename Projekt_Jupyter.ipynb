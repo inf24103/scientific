{
 "cells": [
  {
   "cell_type": "code",
   "execution_count": 2,
   "id": "4ef90f9b",
   "metadata": {},
   "outputs": [],
   "source": [
    "import numpy as np\n",
    "import matplotlib.pyplot as plt\n",
    "from scipy.special import erf\n",
    "import math"
   ]
  },
  {
   "cell_type": "markdown",
   "id": "0799a4c3",
   "metadata": {
    "vscode": {
     "languageId": "html"
    }
   },
   "source": [
    "%%html\n",
    "<!--Bitte diese Cell mit Run ausführen, damit die Styles geladen werden-->\n",
    "<!--Bei Änderungen des CSS muss das Notebook im Browser neu geladen werden-->\n",
    "<link rel=\"stylesheet\" href=\"./styles/sciprolab.css\">\n"
   ]
  },
  {
   "cell_type": "markdown",
   "id": "4e93313b",
   "metadata": {},
   "source": [
    "## Hello \n",
    "# Scientific Programming Lab\n",
    "\n",
    "- Teil 1: Riemann Ingergrale mit Ober- und Untersummen, Trapezregel\n",
    "  - Methode der numerischen Intergration\n",
    "    - Obersumme, Untersumme, Trapezregel\n",
    "  - Bsp. an Notebook 7\n",
    "      - Achten auf Definitionslücken und Nulldurchgänge\n",
    "- Teil 2: Intergration mittels Monte-Carlo-Simulation\n",
    "  - Grundlagen der Intergration\n",
    "  - Manuelle Wahl des Sampling-Bereichs\n",
    "    - explorative Methode\n",
    "\n",
    "- Teil 3: Darstellung der Intergrationsmethode\n",
    "  - Ergebnisse visualisieren:\n",
    "    - Teil 1\n",
    "    - Teil 2\n",
    "  - Schnittstelle bzw. Integration\n",
    "\n",
    "- Teil 4: Test der numerischen Intergration\n",
    "  - Verschiedene Klassen von Funktionen\n",
    "    - $\\sin(x)$ mit Intervall $[-3, 3]$  \n",
    "    - $e^x$ mit Intervall $[0, 10]$\n",
    "  - Annäherung eines tatsächlichen Wertes\n",
    "  - Stammfunktion bilden\n",
    "\n",
    "- Teil 5: Grenzen numerischer Intergration\n",
    "  - Funktion $\\sin\\left(\\left(x + \\frac{1}{32}\\right) \\cdot 16\\pi \\right)$\n",
    "  - Aufteilung auf 2, 4, 8 und 16 gleichgroße Intervalle\n",
    "  - Optional:\n",
    "    - Gaußsche Fehlerfunktion\n",
    "      - Klassisch nicht intergrierbar\n",
    "      - Numerisch intergrierbar\n",
    "\n",
    "\n",
    "      "
   ]
  },
  {
   "cell_type": "markdown",
   "id": "ef6da657",
   "metadata": {},
   "source": [
    "$$\n",
    "\\displaystyle\n",
    "\\left( \\sum_{k=1}^n a_k b_k \\right)^2\n",
    "\\leq\n",
    "\\left( \\sum_{k=1}^n a_k^2 \\right)\n",
    "\\left( \\sum_{k=1}^n b_k^2 \\right)\n",
    "$$"
   ]
  },
  {
   "cell_type": "markdown",
   "id": "18519efb",
   "metadata": {},
   "source": [
    "# 🧩 Teil 1: Riemann-Integration – Ober-/Untersummen und Trapezregel\n",
    "\n",
    "## 🎯 Ziel\n",
    "Approximation bestimmter Integrale mithilfe klassischer Verfahren: Untersumme, Obersumme und Trapezregel.\n",
    "\n",
    "## 📐 Mathematischer Hintergrund\n",
    "\n",
    "Gegeben ist eine Funktion \\( f(x) \\) auf dem Intervall \\([a, b]\\), das in \\(n\\) gleich große Intervalle der Breite \\(\\Delta x = \\frac{b - a}{n}\\) aufgeteilt wird.\n",
    "\n",
    "### 🔹 Untersumme\n",
    "\\[\n",
    "U_n = \\sum_{i=0}^{n-1} \\min(f(x_i), f(x_{i+1})) \\cdot \\Delta x\n",
    "\\]\n",
    "\n",
    "### 🔹 Obersumme\n",
    "\\[\n",
    "O_n = \\sum_{i=0}^{n-1} \\max(f(x_i), f(x_{i+1})) \\cdot \\Delta x\n",
    "\\]\n",
    "\n",
    "### 🔹 Trapezregel\n",
    "\\[\n",
    "T_n = \\frac{\\Delta x}{2} \\left( f(x_0) + 2\\sum_{i=1}^{n-1} f(x_i) + f(x_n) \\right)\n",
    "\\]\n",
    "\n",
    "## 🧰 Besonderheiten bei der Implementierung\n",
    "- Unterstützung für beliebige Funktionen \\( f(x) \\)\n",
    "- Behandlung von Definitionslücken und Nullstellen\n",
    "- Flexibel wählbare Anzahl der Intervalle \\( n \\)\n",
    "- Auswahl der Methode über Argumente: `'lower'`, `'upper'`, `'trapezoid'`\n"
   ]
  },
  {
   "cell_type": "code",
   "execution_count": null,
   "id": "05345012",
   "metadata": {},
   "outputs": [
    {
     "name": "stdout",
     "output_type": "stream",
     "text": [
      "🔹 Teil 1 – Riemann & Trapezregel:\n",
      "  Untersumme: 0.450000\n",
      "  Obersumme:  0.550000\n",
      "  Trapezregel: 0.500000\n"
     ]
    }
   ],
   "source": [
    "import unittest\n",
    "\n",
    "class Riemann_Intergration:\n",
    "    def berechne(self, f, a, b, n):\n",
    "        x = np.linspace(a, b, n+1)\n",
    "        dx = (b - a) / n\n",
    "        y = f(x)\n",
    "\n",
    "        lower_sum = sum(min(f(x[i]), f(x[i+1])) for i in range(n)) * dx\n",
    "        upper_sum = sum(max(f(x[i]), f(x[i+1])) for i in range(n)) * dx\n",
    "        trapez = dx * (np.sum(y) - 0.5 * (y[0] + y[-1]))\n",
    "\n",
    "        print(\"🔹 Teil 1 – Riemann & Trapezregel:\")\n",
    "        print(f\"  Untersumme: {lower_sum:.6f}\")\n",
    "        print(f\"  Obersumme:  {upper_sum:.6f}\")\n",
    "        print(f\"  Trapezregel: {trapez:.6f}\")\n",
    "\n",
    "        \n",
    "riemann = Riemann_Intergration()\n",
    "riemann.berechne(sin(x), a, b, 10)\n"
   ]
  },
  {
   "cell_type": "markdown",
   "id": "a237b91b",
   "metadata": {},
   "source": [
    "# 🎲 Teil 2: Integration mittels Monte-Carlo-Simulation\n",
    "\n",
    "## 🎯 Ziel\n",
    "Numerische Integration über zufällige Stichproben anstatt regelmäßiger Unterteilungen.\n",
    "\n",
    "## 📐 Mathematisches Prinzip\n",
    "\n",
    "Bei der Monte-Carlo-Integration werden \\( N \\) zufällige Punkte \\( x_i \\in [a, b] \\) erzeugt:\n",
    "\n",
    "\\[\n",
    "\\int_a^b f(x) \\, dx \\approx (b - a) \\cdot \\frac{1}{N} \\sum_{i=1}^{N} f(x_i)\n",
    "\\]\n",
    "\n",
    "## 🧰 Merkmale der Implementierung\n",
    "- Unterstützung für manuelle oder automatische Intervallbestimmung\n",
    "- Reproduzierbarkeit durch Zufallssaat (optional)\n",
    "- Anpassbare Stichprobenzahl \\( N \\)\n",
    "- Gut geeignet für unregelmäßige oder hochdimensionale Funktionen\n"
   ]
  },
  {
   "cell_type": "code",
   "execution_count": null,
   "id": "0f95f73a",
   "metadata": {},
   "outputs": [],
   "source": [
    "class MonteCarloIntegration:\n",
    "    def __init__(self):\n",
    "        np.random.seed(0)  # Für reproduzierbare Ergebnisse\n",
    "\n",
    "    def berechne(self, f, a, b, N):\n",
    "        samples = np.random.uniform(a, b, N)\n",
    "        mc_result = (b - a) * np.mean(f(samples))\n",
    "\n",
    "        print(\"🔹 Teil 2 – Monte-Carlo:\")\n",
    "        print(f\"  Monte-Carlo Approximation (N={N}): {mc_result:.6f}\")\n",
    "\n",
    "montecarlo = MonteCarloIntegration()\n",
    "monte.berechne()"
   ]
  },
  {
   "cell_type": "markdown",
   "id": "883d8ae1",
   "metadata": {},
   "source": [
    "# 📈 Teil 3: Darstellung der Integrationsmethoden\n",
    "\n",
    "## 🎯 Ziel\n",
    "Visuelle Darstellung von Funktionen, Flächen und Approximationsmethoden.\n",
    "\n",
    "## 📐 Was wird dargestellt?\n",
    "- Der Funktionsgraph \\( f(x) \\) auf dem Intervall \\([a, b]\\)\n",
    "- Fläche unter der Kurve durch `fill_between`\n",
    "- (Optional) Rechtecke oder Trapeze für Riemann- und Trapezregel\n",
    "\n",
    "## 💡 Beispiel (Pseudocode)\n",
    "```python\n",
    "x = np.linspace(a, b, 100)\n",
    "plt.plot(x, f(x), label=\"f(x)\")\n",
    "plt.fill_between(x, f(x), alpha=0.3)\n",
    "plt.legend()\n",
    "plt.grid(True)\n"
   ]
  },
  {
   "cell_type": "code",
   "execution_count": 4,
   "id": "9c23116e",
   "metadata": {},
   "outputs": [
    {
     "data": {
      "image/png": "[encoded data removed]",
      "text/plain": [
       "<Figure size 640x480 with 1 Axes>"
      ]
     },
     "metadata": {},
     "output_type": "display_data"
    }
   ],
   "source": [
    "def f(x):\n",
    "    return x\n",
    "\n",
    "x = np.linspace(0, 1, 100)\n",
    "y = f(x)\n",
    "\n",
    "plt.plot(x, y, label='f(x) = x')\n",
    "plt.fill_between(x, y, alpha=0.3)\n",
    "plt.title(\"Graph von f(x) = x\")\n",
    "plt.xlabel(\"x\")\n",
    "plt.ylabel(\"f(x)\")\n",
    "plt.legend()\n",
    "plt.grid(True)\n",
    "plt.show()\n"
   ]
  },
  {
   "cell_type": "markdown",
   "id": "5112c3b6",
   "metadata": {},
   "source": [
    "# 🧪 Teil 4: Test der numerischen Methoden\n",
    "\n",
    "## 🎯 Ziel\n",
    "Vergleich verschiedener Methoden an Funktionen mit bekannter Stammfunktion.\n",
    "\n",
    "## 📐 Beispiel-Funktionen\n",
    "\n",
    "| Funktion                         | Intervall     | Stammfunktion \\(F(x)\\)                        |\n",
    "|----------------------------------|---------------|-----------------------------------------------|\n",
    "| \\( f(x) = \\sin(x) \\)             | \\([0, 2\\pi]\\) | \\( F(x) = -\\cos(x) \\)                          |\n",
    "| \\( f(x) = x^2 - 4x + 2 \\)        | \\([-3, 3]\\)   | \\( F(x) = \\frac{x^3}{3} - 2x^2 + 2x \\)         |\n",
    "| \\( f(x) = e^x \\)                 | \\([0, 10]\\)   | \\( F(x) = e^x \\)                               |\n",
    "\n",
    "## 📉 Fehleranalyse\n",
    "Berechne:\n",
    "\n",
    "\\[\n",
    "\\text{Fehler} = \\left| \\text{numerischer Wert} - \\text{exakter Wert} \\right|\n",
    "\\]\n",
    "\n",
    "Zeige, wie der Fehler abnimmt, wenn die Anzahl der Intervalle \\( n \\) oder Stichproben \\( N \\) erhöht wird.\n"
   ]
  },
  {
   "cell_type": "code",
   "execution_count": 5,
   "id": "a0a73275",
   "metadata": {},
   "outputs": [
    {
     "name": "stdout",
     "output_type": "stream",
     "text": [
      "Exakter Wert: 0.3333333333333333\n",
      "Numerische Näherung: 0.3350000000000001\n"
     ]
    }
   ],
   "source": [
    "# f(x) = x^2, Stammfunktion: F(x) = x^3 / 3\n",
    "def f(x):\n",
    "    return x**2\n",
    "def F(x):\n",
    "    return x**3 / 3\n",
    "\n",
    "a, b = 0, 1\n",
    "true_value = F(b) - F(a)\n",
    "\n",
    "# Trapezregel mit n = 10\n",
    "n = 10\n",
    "x = np.linspace(a, b, n+1)\n",
    "dx = (b - a) / n\n",
    "y = f(x)\n",
    "approx = dx * (np.sum(y) - 0.5 * (y[0] + y[-1]))\n",
    "\n",
    "print(\"Exakter Wert:\", true_value)\n",
    "print(\"Numerische Näherung:\", approx)\n"
   ]
  },
  {
   "cell_type": "markdown",
   "id": "ddd14714",
   "metadata": {},
   "source": [
    "# 🚧 Teil 5: Grenzen numerischer Integration\n",
    "\n",
    "## 🎯 Ziel\n",
    "Demonstration der Grenzen bei stark oszillierenden Funktionen.\n",
    "\n",
    "## 📐 Beispiel-Funktion\n",
    "\n",
    "\\[\n",
    "f(x) = \\sin\\left((x + \\frac{1}{32}) \\cdot 16\\pi\\right)\n",
    "\\quad \\text{auf } [0, 1]\n",
    "\\]\n",
    "\n",
    "- Diese Funktion oszilliert 8-mal auf \\([0, 1]\\)\n",
    "- Niedrige \\( n \\) führen zu ungenauen Ergebnissen\n",
    "\n",
    "## 📊 Vorgehen\n",
    "Vergleiche die Trapezregel bei:\n",
    "- \\( n = 2, 4, 8, 16 \\)\n",
    "- Werte weichen stark ab bei niedriger Auflösung\n",
    "\n",
    "## ✅ Erkenntnisse\n",
    "- Hohe Frequenz benötigt feine Unterteilung\n",
    "- Monte-Carlo kann robust sein, aber langsam konvergieren\n",
    "- Adaptive Verfahren wären besser geeignet\n"
   ]
  },
  {
   "cell_type": "code",
   "execution_count": 5,
   "id": "4c155eab",
   "metadata": {},
   "outputs": [
    {
     "name": "stdout",
     "output_type": "stream",
     "text": [
      "n =  2 → Trapezregel: 1.000000\n",
      "n =  4 → Trapezregel: 1.000000\n",
      "n =  8 → Trapezregel: 1.000000\n",
      "n = 16 → Trapezregel: 0.000000\n"
     ]
    }
   ],
   "source": [
    "def f(x):\n",
    "    return np.sin((x + 1/32) * 16 * np.pi)\n",
    "\n",
    "a, b = 0, 1\n",
    "\n",
    "for n in [2, 4, 8, 16]:\n",
    "    x = np.linspace(a, b, n+1)\n",
    "    dx = (b - a) / n\n",
    "    y = f(x)\n",
    "    trapez = dx * (np.sum(y) - 0.5 * (y[0] + y[-1]))\n",
    "    print(f\"n = {n:2d} → Trapezregel: {trapez:.6f}\")\n"
   ]
  },
  {
   "cell_type": "markdown",
   "id": "43165217",
   "metadata": {},
   "source": [
    "# Zusammenfassung\n",
    "\n"
   ]
  },
  {
   "cell_type": "markdown",
   "id": "f41593fa",
   "metadata": {},
   "source": [
    "# Ein möglicher vollständiger Code\n",
    "\n",
    "## Aufbau des Codes:\n"
   ]
  },
  {
   "cell_type": "code",
   "execution_count": 6,
   "id": "416476ab",
   "metadata": {},
   "outputs": [
    {
     "name": "stdout",
     "output_type": "stream",
     "text": [
      "\n",
      "--- Teil 1: Untersumme & Obersumme ---\n",
      "Untersumme: 1.104599\n",
      "Obersumme:  1.492177\n",
      "\n",
      "--- Teil 2: Trapezregel ---\n",
      "Trapezregel: 1.298388\n",
      "\n",
      "--- Teil 3: Monte-Carlo-Integration ---\n",
      "Monte-Carlo (N=10000): 1.298233\n",
      "\n",
      "--- Teil 4: Plot der Funktion f(x) ---\n"
     ]
    },
    {
     "data": {
      "image/png": "[encoded data removed]",
      "text/plain": [
       "<Figure size 640x480 with 1 Axes>"
      ]
     },
     "metadata": {},
     "output_type": "display_data"
    },
    {
     "name": "stdout",
     "output_type": "stream",
     "text": [
      "\n",
      "--- Teil 5: Exakter Wert (falls bekannt) ---\n"
     ]
    },
    {
     "ename": "NameError",
     "evalue": "name 'sin' is not defined",
     "output_type": "error",
     "traceback": [
      "\u001b[31m---------------------------------------------------------------------------\u001b[39m",
      "\u001b[31mNameError\u001b[39m                                 Traceback (most recent call last)",
      "\u001b[36mCell\u001b[39m\u001b[36m \u001b[39m\u001b[32mIn[6]\u001b[39m\u001b[32m, line 138\u001b[39m\n\u001b[32m    135\u001b[39m             \u001b[38;5;28;01mfor\u001b[39;00m k2,v2 \u001b[38;5;129;01min\u001b[39;00m res.items():\n\u001b[32m    136\u001b[39m                 \u001b[38;5;28mprint\u001b[39m(\u001b[33mf\u001b[39m\u001b[33m\"\u001b[39m\u001b[33m    \u001b[39m\u001b[38;5;132;01m{\u001b[39;00mk2\u001b[38;5;132;01m}\u001b[39;00m\u001b[33m: \u001b[39m\u001b[38;5;132;01m{\u001b[39;00mv2\u001b[38;5;132;01m}\u001b[39;00m\u001b[33m\"\u001b[39m)\n\u001b[32m--> \u001b[39m\u001b[32m138\u001b[39m \u001b[43mmain\u001b[49m\u001b[43m(\u001b[49m\u001b[43m)\u001b[49m\n",
      "\u001b[36mCell\u001b[39m\u001b[36m \u001b[39m\u001b[32mIn[6]\u001b[39m\u001b[32m, line 109\u001b[39m, in \u001b[36mmain\u001b[39m\u001b[34m()\u001b[39m\n\u001b[32m    107\u001b[39m \u001b[38;5;28mprint\u001b[39m(\u001b[33m\"\u001b[39m\u001b[38;5;130;01m\\n\u001b[39;00m\u001b[33m--- Teil 5: Exakter Wert (falls bekannt) ---\u001b[39m\u001b[33m\"\u001b[39m)\n\u001b[32m    108\u001b[39m \u001b[38;5;28;01mif\u001b[39;00m inputs[\u001b[33m'\u001b[39m\u001b[33mF_string\u001b[39m\u001b[33m'\u001b[39m]:\n\u001b[32m--> \u001b[39m\u001b[32m109\u001b[39m     true_value = \u001b[43mF\u001b[49m\u001b[43m(\u001b[49m\u001b[43minputs\u001b[49m\u001b[43m[\u001b[49m\u001b[33;43m'\u001b[39;49m\u001b[33;43mb\u001b[39;49m\u001b[33;43m'\u001b[39;49m\u001b[43m]\u001b[49m\u001b[43m)\u001b[49m - F(inputs[\u001b[33m'\u001b[39m\u001b[33ma\u001b[39m\u001b[33m'\u001b[39m])\n\u001b[32m    110\u001b[39m     \u001b[38;5;28mprint\u001b[39m(\u001b[33mf\u001b[39m\u001b[33m\"\u001b[39m\u001b[33mExakter Wert: \u001b[39m\u001b[38;5;132;01m{\u001b[39;00mtrue_value\u001b[38;5;132;01m:\u001b[39;00m\u001b[33m.6f\u001b[39m\u001b[38;5;132;01m}\u001b[39;00m\u001b[33m\"\u001b[39m)\n\u001b[32m    111\u001b[39m     outputs[\u001b[33m'\u001b[39m\u001b[33mTeil 5\u001b[39m\u001b[33m'\u001b[39m] = {\u001b[33m'\u001b[39m\u001b[33mExakter Wert\u001b[39m\u001b[33m'\u001b[39m: true_value}\n",
      "\u001b[36mCell\u001b[39m\u001b[36m \u001b[39m\u001b[32mIn[6]\u001b[39m\u001b[32m, line 23\u001b[39m, in \u001b[36mmain.<locals>.F\u001b[39m\u001b[34m(x)\u001b[39m\n\u001b[32m     21\u001b[39m \u001b[38;5;28;01mif\u001b[39;00m \u001b[38;5;129;01mnot\u001b[39;00m inputs[\u001b[33m'\u001b[39m\u001b[33mF_string\u001b[39m\u001b[33m'\u001b[39m]:\n\u001b[32m     22\u001b[39m     \u001b[38;5;28;01mreturn\u001b[39;00m \u001b[38;5;28;01mNone\u001b[39;00m\n\u001b[32m---> \u001b[39m\u001b[32m23\u001b[39m \u001b[38;5;28;01mreturn\u001b[39;00m \u001b[38;5;28;43meval\u001b[39;49m\u001b[43m(\u001b[49m\u001b[43minputs\u001b[49m\u001b[43m[\u001b[49m\u001b[33;43m'\u001b[39;49m\u001b[33;43mF_string\u001b[39;49m\u001b[33;43m'\u001b[39;49m\u001b[43m]\u001b[49m\u001b[43m,\u001b[49m\u001b[43m \u001b[49m\u001b[43m{\u001b[49m\u001b[33;43m\"\u001b[39;49m\u001b[33;43mnp\u001b[39;49m\u001b[33;43m\"\u001b[39;49m\u001b[43m:\u001b[49m\u001b[43m \u001b[49m\u001b[43mnp\u001b[49m\u001b[43m,\u001b[49m\u001b[43m \u001b[49m\u001b[33;43m\"\u001b[39;49m\u001b[33;43mmath\u001b[39;49m\u001b[33;43m\"\u001b[39;49m\u001b[43m:\u001b[49m\u001b[43m \u001b[49m\u001b[43mmath\u001b[49m\u001b[43m,\u001b[49m\u001b[43m \u001b[49m\u001b[33;43m\"\u001b[39;49m\u001b[33;43mx\u001b[39;49m\u001b[33;43m\"\u001b[39;49m\u001b[43m:\u001b[49m\u001b[43m \u001b[49m\u001b[43mx\u001b[49m\u001b[43m}\u001b[49m\u001b[43m)\u001b[49m\n",
      "\u001b[36mFile \u001b[39m\u001b[32m<string>:1\u001b[39m\n",
      "\u001b[31mNameError\u001b[39m: name 'sin' is not defined"
     ]
    }
   ],
   "source": [
    "def main():\n",
    "    durchlaeufe = []  # Liste aller Durchläufe (je dict mit inputs+outputs+status)\n",
    "\n",
    "    while True:\n",
    "        # Speichere alle Eingaben\n",
    "        inputs = {}\n",
    "\n",
    "        inputs['f_string'] = input(\"Gib die Funktion f(x) ein (z. B. 'x**2', 'np.sin(x)'): \")\n",
    "        a_str = input(\"Untere Grenze a (z.B. '0', 'pi/2', '2*pi'): \")\n",
    "        b_str = input(\"Obere Grenze b (z.B. 'pi', '3*pi/2'): \")\n",
    "        inputs['a'] = eval(a_str, {\"pi\": math.pi, \"np\": np, \"math\": math})\n",
    "        inputs['b'] = eval(b_str, {\"pi\": math.pi, \"np\": np, \"math\": math})\n",
    "        inputs['n'] = int(input(\"Anzahl der Intervalle n: \"))\n",
    "        inputs['N_mc'] = int(input(\"Monte-Carlo-Stichproben N: \"))\n",
    "        inputs['F_string'] = input(\"Stammfunktion F(x) (für exakten Wert, leer lassen wenn unbekannt): \").strip()\n",
    "\n",
    "        def f(x):\n",
    "            return eval(inputs['f_string'], {\"np\": np, \"math\": math, \"x\": x})\n",
    "\n",
    "        def F(x):\n",
    "            if not inputs['F_string']:\n",
    "                return None\n",
    "            return eval(inputs['F_string'], {\"np\": np, \"math\": math, \"x\": x})\n",
    "\n",
    "        dx = (inputs['b'] - inputs['a']) / inputs['n']\n",
    "        x = np.linspace(inputs['a'], inputs['b'], inputs['n'] + 1)\n",
    "        y = f(x)\n",
    "\n",
    "        def weiter_machen(teil):\n",
    "            antwort = input(f\"Möchtest du mit Teil {teil} weitermachen? (j/n): \").lower()\n",
    "            return antwort == 'j'\n",
    "\n",
    "        outputs = {}  # Speichere alle Outputs des aktuellen Durchlaufs\n",
    "\n",
    "        # Teil 1\n",
    "        print(\"\\n--- Teil 1: Untersumme & Obersumme ---\")\n",
    "        lower_sum = sum(min(f(x[i]), f(x[i + 1])) for i in range(inputs['n'])) * dx\n",
    "        upper_sum = sum(max(f(x[i]), f(x[i + 1])) for i in range(inputs['n'])) * dx\n",
    "        print(f\"Untersumme: {lower_sum:.6f}\")\n",
    "        print(f\"Obersumme:  {upper_sum:.6f}\")\n",
    "        outputs['Teil 1'] = {'Untersumme': lower_sum, 'Obersumme': upper_sum}\n",
    "\n",
    "        if not weiter_machen(2):\n",
    "            print(\"Starte neu mit Eingaben.\")\n",
    "            durchlaeufe.append({\n",
    "                'inputs': inputs,\n",
    "                'outputs': outputs,\n",
    "                'status': 'abgebrochen nach Teil 1'\n",
    "            })\n",
    "            continue\n",
    "\n",
    "        # Teil 2\n",
    "        print(\"\\n--- Teil 2: Trapezregel ---\")\n",
    "        trapezoid = dx * (np.sum(y) - 0.5 * (y[0] + y[-1]))\n",
    "        print(f\"Trapezregel: {trapezoid:.6f}\")\n",
    "        outputs['Teil 2'] = {'Trapezregel': trapezoid}\n",
    "\n",
    "        if not weiter_machen(3):\n",
    "            print(\"Starte neu mit Eingaben.\")\n",
    "            durchlaeufe.append({\n",
    "                'inputs': inputs,\n",
    "                'outputs': outputs,\n",
    "                'status': 'abgebrochen nach Teil 2'\n",
    "            })\n",
    "            continue\n",
    "\n",
    "        # Teil 3\n",
    "        print(\"\\n--- Teil 3: Plot der Funktion f(x) ---\")\n",
    "        x_plot = np.linspace(inputs['a'], inputs['b'], 1000)\n",
    "        y_plot = f(x_plot)\n",
    "        plt.plot(x_plot, y_plot, label='f(x)', color='blue')\n",
    "        plt.fill_between(x_plot, y_plot, alpha=0.2, label='Fläche unter f(x)')\n",
    "        plt.title(\"Visualisierung der Funktion f(x)\")\n",
    "        plt.xlabel(\"x\")\n",
    "        plt.ylabel(\"f(x)\")\n",
    "        plt.grid(True)\n",
    "        plt.legend()\n",
    "        plt.show()\n",
    "        outputs['Teil 4'] = {'Plot': 'erstellt'}\n",
    "\n",
    "        if not weiter_machen(4):\n",
    "            print(\"Starte neu mit Eingaben.\")\n",
    "            durchlaeufe.append({\n",
    "                'inputs': inputs,\n",
    "                'outputs': outputs,\n",
    "                'status': 'abgebrochen nach Teil 3'\n",
    "            })\n",
    "            continue\n",
    "\n",
    "        # Teil 4\n",
    "        print(\"\\n--- Teil 4: Monte-Carlo-Integration ---\")\n",
    "        samples = np.random.uniform(inputs['a'], inputs['b'], inputs['N_mc'])\n",
    "        mc_result = (inputs['b'] - inputs['a']) * np.mean(f(samples))\n",
    "        print(f\"Monte-Carlo (N={inputs['N_mc']}): {mc_result:.6f}\")\n",
    "        outputs['Teil 3'] = {'Monte-Carlo': mc_result}\n",
    "\n",
    "\n",
    "        if not weiter_machen(5):\n",
    "            print(\"Starte neu mit Eingaben.\")\n",
    "            durchlaeufe.append({\n",
    "                'inputs': inputs,\n",
    "                'outputs': outputs,\n",
    "                'status': 'abgebrochen nach Teil 4'\n",
    "            })\n",
    "            continue\n",
    "\n",
    "        # Teil 5\n",
    "        print(\"\\n--- Teil 5: Exakter Wert (falls bekannt) ---\")\n",
    "        if inputs['F_string']:\n",
    "            true_value = F(inputs['b']) - F(inputs['a'])\n",
    "            print(f\"Exakter Wert: {true_value:.6f}\")\n",
    "            outputs['Teil 5'] = {'Exakter Wert': true_value}\n",
    "        else:\n",
    "            print(\"Kein exakter Wert angegeben.\")\n",
    "            outputs['Teil 5'] = {'Exakter Wert': None}\n",
    "\n",
    "        durchlaeufe.append({\n",
    "            'inputs': inputs,\n",
    "            'outputs': outputs,\n",
    "            'status': 'vollständig'\n",
    "        })\n",
    "\n",
    "        print(\"Programm beendet.\")\n",
    "        break\n",
    "\n",
    "    # Am Ende alle Durchläufe ausgeben:\n",
    "    print(\"\\n=== Übersicht aller Durchläufe ===\")\n",
    "    for i, d in enumerate(durchlaeufe, 1):\n",
    "        print(f\"\\nDurchlauf {i}: Status: {d['status']}\")\n",
    "        print(\"Eingaben:\")\n",
    "        for k,v in d['inputs'].items():\n",
    "            print(f\"  {k}: {v}\")\n",
    "        print(\"Ausgaben:\")\n",
    "        for teil, res in d['outputs'].items():\n",
    "            print(f\"  {teil}:\")\n",
    "            for k2,v2 in res.items():\n",
    "                print(f\"    {k2}: {v2}\")\n",
    "\n",
    "main()\n"
   ]
  },
  {
   "cell_type": "code",
   "execution_count": null,
   "id": "72b15cb7",
   "metadata": {},
   "outputs": [],
   "source": [
    "from reportlab.pdfgen import canvas\n",
    "\n",
    "c = canvas.Canvas(\"example.pdf\")\n",
    "c.drawString(100, 750, \"Hallo Welt, PDF ohne wkhtmltopdf!\")\n",
    "c.save()\n"
   ]
  },
  {
   "cell_type": "code",
   "execution_count": 8,
   "id": "4a745a78",
   "metadata": {},
   "outputs": [],
   "source": [
    "import os\n",
    "\n",
    "# Manuell sicherstellen, dass Pandoc im Pfad ist\n",
    "os.environ[\"PATH\"] += os.pathsep + r\"C:\\Users\\Krzysztof.Owczarek\\AppData\\Local\\Pandoc\"\n",
    "\n"
   ]
  },
  {
   "cell_type": "code",
   "execution_count": 6,
   "id": "5b7eb268",
   "metadata": {},
   "outputs": [
    {
     "name": "stderr",
     "output_type": "stream",
     "text": [
      "Der Befehl \"pandoc\" ist entweder falsch geschrieben oder\n",
      "konnte nicht gefunden werden.\n"
     ]
    }
   ],
   "source": [
    "!pandoc --version\n"
   ]
  }
 ],
 "metadata": {
  "kernelspec": {
   "display_name": "Python 3 (ipykernel)",
   "language": "python",
   "name": "python3"
  },
  "language_info": {
   "codemirror_mode": {
    "name": "ipython",
    "version": 3
   },
   "file_extension": ".py",
   "mimetype": "text/x-python",
   "name": "python",
   "nbconvert_exporter": "python",
   "pygments_lexer": "ipython3",
   "version": "3.13.5"
  }
 },
 "nbformat": 4,
 "nbformat_minor": 5
}
